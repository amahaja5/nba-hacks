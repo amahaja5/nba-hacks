{
 "cells": [
  {
   "cell_type": "code",
   "execution_count": 60,
   "metadata": {
    "collapsed": true
   },
   "outputs": [],
   "source": [
    "%matplotlib inline\n",
    "import matplotlib.pyplot as plt\n",
    "import numpy as np\n",
    "import random\n",
    "def simulate_single_season():\n",
    "    season_wins = []\n",
    "    for i in range(82):\n",
    "        if random.randint(0,100) < 80:\n",
    "            season_wins.append(1)\n",
    "        else:\n",
    "            season_wins.append(0)\n",
    "    return season_wins\n",
    "\n",
    "def count_number_of_two_consecutive_losses(arr):\n",
    "    count = 0\n",
    "    for i in range(len(arr)-1):\n",
    "        if arr[i] == 0 and arr[i+1] == 0:\n",
    "            count += 1\n",
    "    return count"
   ]
  },
  {
   "cell_type": "code",
   "execution_count": 65,
   "metadata": {},
   "outputs": [
    {
     "name": "stdout",
     "output_type": "stream",
     "text": [
      "simulation 0\n",
      "simulation 10000\n",
      "simulation 20000\n",
      "simulation 30000\n",
      "simulation 40000\n",
      "simulation 50000\n",
      "simulation 60000\n",
      "simulation 70000\n",
      "simulation 80000\n",
      "simulation 90000\n",
      "simulation 100000\n",
      "simulation 110000\n",
      "simulation 120000\n",
      "simulation 130000\n",
      "simulation 140000\n",
      "simulation 150000\n",
      "simulation 160000\n",
      "simulation 170000\n",
      "simulation 180000\n",
      "simulation 190000\n",
      "simulation 200000\n",
      "simulation 210000\n",
      "simulation 220000\n",
      "simulation 230000\n",
      "simulation 240000\n",
      "simulation 250000\n",
      "simulation 260000\n",
      "simulation 270000\n",
      "simulation 280000\n",
      "simulation 290000\n",
      "simulation 300000\n",
      "simulation 310000\n",
      "simulation 320000\n",
      "simulation 330000\n",
      "simulation 340000\n",
      "simulation 350000\n",
      "simulation 360000\n",
      "simulation 370000\n",
      "simulation 380000\n",
      "simulation 390000\n",
      "simulation 400000\n",
      "simulation 410000\n",
      "simulation 420000\n",
      "simulation 430000\n",
      "simulation 440000\n",
      "simulation 450000\n",
      "simulation 460000\n",
      "simulation 470000\n",
      "simulation 480000\n",
      "simulation 490000\n",
      "simulation 500000\n",
      "simulation 510000\n",
      "simulation 520000\n",
      "simulation 530000\n",
      "simulation 540000\n",
      "simulation 550000\n",
      "simulation 560000\n",
      "simulation 570000\n",
      "simulation 580000\n",
      "simulation 590000\n",
      "simulation 600000\n",
      "simulation 610000\n",
      "simulation 620000\n",
      "simulation 630000\n",
      "simulation 640000\n",
      "simulation 650000\n",
      "simulation 660000\n",
      "simulation 670000\n",
      "simulation 680000\n",
      "simulation 690000\n",
      "simulation 700000\n",
      "simulation 710000\n",
      "simulation 720000\n",
      "simulation 730000\n",
      "simulation 740000\n",
      "simulation 750000\n",
      "simulation 760000\n",
      "simulation 770000\n",
      "simulation 780000\n",
      "simulation 790000\n",
      "simulation 800000\n",
      "simulation 810000\n",
      "simulation 820000\n",
      "simulation 830000\n",
      "simulation 840000\n",
      "simulation 850000\n",
      "simulation 860000\n",
      "simulation 870000\n",
      "simulation 880000\n",
      "simulation 890000\n",
      "simulation 900000\n",
      "simulation 910000\n",
      "simulation 920000\n",
      "simulation 930000\n",
      "simulation 940000\n",
      "simulation 950000\n",
      "simulation 960000\n",
      "simulation 970000\n",
      "simulation 980000\n",
      "simulation 990000\n"
     ]
    }
   ],
   "source": [
    "# count number of 2 losses in a row\n",
    "counts = [0 for i in range(1000000)]\n",
    "for i in range(1000000):\n",
    "    arr = simulate_single_season()\n",
    "    count = count_number_of_two_consecutive_losses(arr)\n",
    "    counts[i] = count\n",
    "    if i%10000 == 0:\n",
    "        print(\"simulation %d\" % i)\n"
   ]
  },
  {
   "cell_type": "code",
   "execution_count": 72,
   "metadata": {},
   "outputs": [
    {
     "name": "stdout",
     "output_type": "stream",
     "text": [
      "mean: 3.501705\n",
      "stddev: 2.119604\n"
     ]
    },
    {
     "data": {
      "image/png": "[encoded data removed]",
      "text/plain": [
       "<matplotlib.figure.Figure at 0x11d224b70>"
      ]
     },
     "metadata": {},
     "output_type": "display_data"
    }
   ],
   "source": [
    "plt.hist(counts, bins=18)\n",
    "print(\"mean: %f\" % np.mean(counts))\n",
    "print(\"stddev: %f\" % np.std(counts))"
   ]
  },
  {
   "cell_type": "code",
   "execution_count": 56,
   "metadata": {},
   "outputs": [
    {
     "name": "stdout",
     "output_type": "stream",
     "text": [
      "simulation 0\n",
      "simulation 10000\n",
      "simulation 20000\n",
      "simulation 30000\n",
      "simulation 40000\n",
      "simulation 50000\n",
      "simulation 60000\n",
      "simulation 70000\n",
      "simulation 80000\n",
      "simulation 90000\n",
      "simulation 100000\n",
      "simulation 110000\n",
      "simulation 120000\n",
      "simulation 130000\n",
      "simulation 140000\n",
      "simulation 150000\n",
      "simulation 160000\n",
      "simulation 170000\n",
      "simulation 180000\n",
      "simulation 190000\n",
      "simulation 200000\n",
      "simulation 210000\n",
      "simulation 220000\n",
      "simulation 230000\n",
      "simulation 240000\n",
      "simulation 250000\n",
      "simulation 260000\n",
      "simulation 270000\n",
      "simulation 280000\n",
      "simulation 290000\n",
      "simulation 300000\n",
      "simulation 310000\n",
      "simulation 320000\n",
      "simulation 330000\n",
      "simulation 340000\n",
      "simulation 350000\n",
      "simulation 360000\n",
      "simulation 370000\n",
      "simulation 380000\n",
      "simulation 390000\n",
      "simulation 400000\n",
      "simulation 410000\n",
      "simulation 420000\n",
      "simulation 430000\n",
      "simulation 440000\n",
      "simulation 450000\n",
      "simulation 460000\n",
      "simulation 470000\n",
      "simulation 480000\n",
      "simulation 490000\n",
      "simulation 500000\n",
      "simulation 510000\n",
      "simulation 520000\n",
      "simulation 530000\n",
      "simulation 540000\n",
      "simulation 550000\n",
      "simulation 560000\n",
      "simulation 570000\n",
      "simulation 580000\n",
      "simulation 590000\n",
      "simulation 600000\n",
      "simulation 610000\n",
      "simulation 620000\n",
      "simulation 630000\n",
      "simulation 640000\n",
      "simulation 650000\n",
      "simulation 660000\n",
      "simulation 670000\n",
      "simulation 680000\n",
      "simulation 690000\n",
      "simulation 700000\n",
      "simulation 710000\n",
      "simulation 720000\n",
      "simulation 730000\n",
      "simulation 740000\n",
      "simulation 750000\n",
      "simulation 760000\n",
      "simulation 770000\n",
      "simulation 780000\n",
      "simulation 790000\n",
      "simulation 800000\n",
      "simulation 810000\n",
      "simulation 820000\n",
      "simulation 830000\n",
      "simulation 840000\n",
      "simulation 850000\n",
      "simulation 860000\n",
      "simulation 870000\n",
      "simulation 880000\n",
      "simulation 890000\n",
      "simulation 900000\n",
      "simulation 910000\n",
      "simulation 920000\n",
      "simulation 930000\n",
      "simulation 940000\n",
      "simulation 950000\n",
      "simulation 960000\n",
      "simulation 970000\n",
      "simulation 980000\n",
      "simulation 990000\n"
     ]
    }
   ],
   "source": [
    "import pandas as pd\n",
    "res = [0 for i in range(1000000)]\n",
    "for i in range(1000000):\n",
    "    h =(pd.DataFrame(np.random.randint(10, size=82)) < 8).astype(int)\n",
    "    h['toadd']= h.shift(-1)\n",
    "    res[i] = (h.dropna().sum(axis=1)==0).sum()\n",
    "    if i%10000 == 0:\n",
    "        print(\"simulation %d\" % i)"
   ]
  },
  {
   "cell_type": "code",
   "execution_count": 70,
   "metadata": {},
   "outputs": [
    {
     "name": "stdout",
     "output_type": "stream",
     "text": [
      "mean: 3.238444\n",
      "stddev: 2.032724\n"
     ]
    },
    {
     "data": {
      "image/png": "[encoded data removed]",
      "text/plain": [
       "<matplotlib.figure.Figure at 0x11b14f240>"
      ]
     },
     "metadata": {},
     "output_type": "display_data"
    }
   ],
   "source": [
    "plt.hist(res, bins=20)\n",
    "print(\"mean: %f\" % np.mean(res))\n",
    "print(\"stddev: %f\" % np.std(res))"
   ]
  },
  {
   "cell_type": "code",
   "execution_count": null,
   "metadata": {
    "collapsed": true
   },
   "outputs": [],
   "source": []
  }
 ],
 "metadata": {
  "kernelspec": {
   "display_name": "Python 2",
   "language": "python",
   "name": "python2"
  },
  "language_info": {
   "codemirror_mode": {
    "name": "ipython",
    "version": 2
   },
   "file_extension": ".py",
   "mimetype": "text/x-python",
   "name": "python",
   "nbconvert_exporter": "python",
   "pygments_lexer": "ipython2",
   "version": "2.7.13"
  }
 },
 "nbformat": 4,
 "nbformat_minor": 2
}
