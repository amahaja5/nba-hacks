{
 "cells": [
  {
   "cell_type": "code",
   "execution_count": 26,
   "metadata": {
    "collapsed": true
   },
   "outputs": [],
   "source": [
    "%matplotlib inline\n",
    "import matplotlib.pyplot as plt\n",
    "import numpy as np\n",
    "import random\n",
    "def simulate_single_season():\n",
    "    season_wins = [0 for i in range(82)]\n",
    "    for i in range(82):\n",
    "        season_wins[i] = int(random.randint(0,99) < 80)\n",
    "    return season_wins\n",
    "\n",
    "def count_number_of_two_consecutive_losses(arr):\n",
    "    count = 0\n",
    "    for i in range(len(arr)-1):\n",
    "        if arr[i] == 0 and arr[i+1] == 0:\n",
    "            count += 1\n",
    "    return count"
   ]
  },
  {
   "cell_type": "code",
   "execution_count": 27,
   "metadata": {},
   "outputs": [],
   "source": [
    "pct_wins = [0 for  i in range(1000000)]\n",
    "for i in range(1000000):\n",
    "    pct_wins[i] = sum(simulate_single_season())\n"
   ]
  },
  {
   "cell_type": "code",
   "execution_count": 28,
   "metadata": {},
   "outputs": [
    {
     "data": {
      "text/plain": [
       "0.79990189024390246"
      ]
     },
     "execution_count": 28,
     "metadata": {},
     "output_type": "execute_result"
    }
   ],
   "source": [
    "np.mean(pct_wins)/82"
   ]
  },
  {
   "cell_type": "code",
   "execution_count": 31,
   "metadata": {},
   "outputs": [
    {
     "name": "stdout",
     "output_type": "stream",
     "text": [
      "simulation 99999\n",
      "simulation 199999\n",
      "simulation 299999\n",
      "simulation 399999\n",
      "simulation 499999\n",
      "simulation 599999\n",
      "simulation 699999\n",
      "simulation 799999\n",
      "simulation 899999\n",
      "simulation 999999\n",
      "simulation 1099999\n",
      "simulation 1199999\n",
      "simulation 1299999\n",
      "simulation 1399999\n",
      "simulation 1499999\n",
      "simulation 1599999\n",
      "simulation 1699999\n",
      "simulation 1799999\n",
      "simulation 1899999\n",
      "simulation 1999999\n",
      "simulation 2099999\n",
      "simulation 2199999\n",
      "simulation 2299999\n",
      "simulation 2399999\n",
      "simulation 2499999\n",
      "simulation 2599999\n",
      "simulation 2699999\n",
      "simulation 2799999\n",
      "simulation 2899999\n",
      "simulation 2999999\n",
      "simulation 3099999\n",
      "simulation 3199999\n",
      "simulation 3299999\n",
      "simulation 3399999\n",
      "simulation 3499999\n",
      "simulation 3599999\n",
      "simulation 3699999\n",
      "simulation 3799999\n",
      "simulation 3899999\n",
      "simulation 3999999\n",
      "simulation 4099999\n",
      "simulation 4199999\n",
      "simulation 4299999\n",
      "simulation 4399999\n",
      "simulation 4499999\n",
      "simulation 4599999\n",
      "simulation 4699999\n",
      "simulation 4799999\n",
      "simulation 4899999\n",
      "simulation 4999999\n",
      "simulation 5099999\n",
      "simulation 5199999\n",
      "simulation 5299999\n",
      "simulation 5399999\n",
      "simulation 5499999\n",
      "simulation 5599999\n",
      "simulation 5699999\n",
      "simulation 5799999\n",
      "simulation 5899999\n",
      "simulation 5999999\n",
      "simulation 6099999\n",
      "simulation 6199999\n",
      "simulation 6299999\n",
      "simulation 6399999\n",
      "simulation 6499999\n",
      "simulation 6599999\n",
      "simulation 6699999\n",
      "simulation 6799999\n",
      "simulation 6899999\n",
      "simulation 6999999\n",
      "simulation 7099999\n",
      "simulation 7199999\n",
      "simulation 7299999\n",
      "simulation 7399999\n",
      "simulation 7499999\n",
      "simulation 7599999\n",
      "simulation 7699999\n",
      "simulation 7799999\n",
      "simulation 7899999\n",
      "simulation 7999999\n",
      "simulation 8099999\n",
      "simulation 8199999\n",
      "simulation 8299999\n",
      "simulation 8399999\n",
      "simulation 8499999\n",
      "simulation 8599999\n",
      "simulation 8699999\n",
      "simulation 8799999\n",
      "simulation 8899999\n",
      "simulation 8999999\n",
      "simulation 9099999\n",
      "simulation 9199999\n",
      "simulation 9299999\n",
      "simulation 9399999\n",
      "simulation 9499999\n",
      "simulation 9599999\n",
      "simulation 9699999\n",
      "simulation 9799999\n",
      "simulation 9899999\n",
      "simulation 9999999\n"
     ]
    }
   ],
   "source": [
    "# count number of 2 losses in a row\n",
    "counts = [0 for i in range(10000000)]\n",
    "for i in range(10000000):\n",
    "    arr = simulate_single_season()\n",
    "    count = count_number_of_two_consecutive_losses(arr)\n",
    "    counts[i] = count\n",
    "    if (i+1)%100000 == 0:\n",
    "        print(\"simulation %d\" % i)\n"
   ]
  },
  {
   "cell_type": "code",
   "execution_count": 32,
   "metadata": {},
   "outputs": [
    {
     "name": "stdout",
     "output_type": "stream",
     "text": [
      "mean: 3.240278\n",
      "stddev: 2.033757\n"
     ]
    },
    {
     "data": {
      "text/plain": [
       "58.915"
      ]
     },
     "execution_count": 32,
     "metadata": {},
     "output_type": "execute_result"
    },
    {
     "data": {
      "image/png": "[encoded data removed]",
      "text/plain": [
       "<matplotlib.figure.Figure at 0x1193dab70>"
      ]
     },
     "metadata": {},
     "output_type": "display_data"
    }
   ],
   "source": [
    "plt.hist(counts, bins=18)\n",
    "print(\"mean: %f\" % np.mean(counts))\n",
    "print(\"stddev: %f\" % np.std(counts))\n",
    "\n",
    "counts.count(0)/100000"
   ]
  },
  {
   "cell_type": "code",
   "execution_count": 56,
   "metadata": {},
   "outputs": [
    {
     "name": "stdout",
     "output_type": "stream",
     "text": [
      "simulation 0\n",
      "simulation 10000\n",
      "simulation 20000\n",
      "simulation 30000\n",
      "simulation 40000\n",
      "simulation 50000\n",
      "simulation 60000\n",
      "simulation 70000\n",
      "simulation 80000\n",
      "simulation 90000\n",
      "simulation 100000\n",
      "simulation 110000\n",
      "simulation 120000\n",
      "simulation 130000\n",
      "simulation 140000\n",
      "simulation 150000\n",
      "simulation 160000\n",
      "simulation 170000\n",
      "simulation 180000\n",
      "simulation 190000\n",
      "simulation 200000\n",
      "simulation 210000\n",
      "simulation 220000\n",
      "simulation 230000\n",
      "simulation 240000\n",
      "simulation 250000\n",
      "simulation 260000\n",
      "simulation 270000\n",
      "simulation 280000\n",
      "simulation 290000\n",
      "simulation 300000\n",
      "simulation 310000\n",
      "simulation 320000\n",
      "simulation 330000\n",
      "simulation 340000\n",
      "simulation 350000\n",
      "simulation 360000\n",
      "simulation 370000\n",
      "simulation 380000\n",
      "simulation 390000\n",
      "simulation 400000\n",
      "simulation 410000\n",
      "simulation 420000\n",
      "simulation 430000\n",
      "simulation 440000\n",
      "simulation 450000\n",
      "simulation 460000\n",
      "simulation 470000\n",
      "simulation 480000\n",
      "simulation 490000\n",
      "simulation 500000\n",
      "simulation 510000\n",
      "simulation 520000\n",
      "simulation 530000\n",
      "simulation 540000\n",
      "simulation 550000\n",
      "simulation 560000\n",
      "simulation 570000\n",
      "simulation 580000\n",
      "simulation 590000\n",
      "simulation 600000\n",
      "simulation 610000\n",
      "simulation 620000\n",
      "simulation 630000\n",
      "simulation 640000\n",
      "simulation 650000\n",
      "simulation 660000\n",
      "simulation 670000\n",
      "simulation 680000\n",
      "simulation 690000\n",
      "simulation 700000\n",
      "simulation 710000\n",
      "simulation 720000\n",
      "simulation 730000\n",
      "simulation 740000\n",
      "simulation 750000\n",
      "simulation 760000\n",
      "simulation 770000\n",
      "simulation 780000\n",
      "simulation 790000\n",
      "simulation 800000\n",
      "simulation 810000\n",
      "simulation 820000\n",
      "simulation 830000\n",
      "simulation 840000\n",
      "simulation 850000\n",
      "simulation 860000\n",
      "simulation 870000\n",
      "simulation 880000\n",
      "simulation 890000\n",
      "simulation 900000\n",
      "simulation 910000\n",
      "simulation 920000\n",
      "simulation 930000\n",
      "simulation 940000\n",
      "simulation 950000\n",
      "simulation 960000\n",
      "simulation 970000\n",
      "simulation 980000\n",
      "simulation 990000\n"
     ]
    }
   ],
   "source": [
    "import pandas as pd\n",
    "res = [0 for i in range(1000000)]\n",
    "for i in range(1000000):\n",
    "    h =(pd.DataFrame(np.random.randint(100, size=82)) < 80).astype(int)\n",
    "    h['toadd']= h.shift(-1)\n",
    "    res[i] = (h.dropna().sum(axis=1)==0).sum()\n",
    "    if i%10000 == 0:\n",
    "        print(\"simulation %d\" % i)"
   ]
  },
  {
   "cell_type": "code",
   "execution_count": 70,
   "metadata": {},
   "outputs": [
    {
     "name": "stdout",
     "output_type": "stream",
     "text": [
      "mean: 3.238444\n",
      "stddev: 2.032724\n"
     ]
    },
    {
     "data": {
      "image/png": "[encoded data removed]",
      "text/plain": [
       "<matplotlib.figure.Figure at 0x11b14f240>"
      ]
     },
     "metadata": {},
     "output_type": "display_data"
    }
   ],
   "source": [
    "plt.hist(res, bins=20)\n",
    "print(\"mean: %f\" % np.mean(res))\n",
    "print(\"stddev: %f\" % np.std(res))"
   ]
  },
  {
   "cell_type": "code",
   "execution_count": null,
   "metadata": {
    "collapsed": true
   },
   "outputs": [],
   "source": []
  }
 ],
 "metadata": {
  "kernelspec": {
   "display_name": "Python 3",
   "language": "python",
   "name": "python3"
  },
  "language_info": {
   "codemirror_mode": {
    "name": "ipython",
    "version": 3
   },
   "file_extension": ".py",
   "mimetype": "text/x-python",
   "name": "python",
   "nbconvert_exporter": "python",
   "pygments_lexer": "ipython3",
   "version": "3.6.1"
  }
 },
 "nbformat": 4,
 "nbformat_minor": 2
}
